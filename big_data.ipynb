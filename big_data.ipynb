{
 "cells": [
  {
   "cell_type": "code",
   "execution_count": 1,
   "id": "a6e62219",
   "metadata": {
    "scrolled": true
   },
   "outputs": [
    {
     "name": "stderr",
     "output_type": "stream",
     "text": [
      "Cannot load SequenceSearch. Any future call to seq_search will fail!\n",
      "Traceback (most recent call last):\n",
      "  File \"/Users/computer/DessimozLab/software/pyoma/pyoma/browser/db.py\", line 1896, in __init__\n",
      "    self.seq_idx = self.seq_idx()\n",
      "  File \"/Users/computer/miniconda3/lib/python3.8/site-packages/tables/link.py\", line 393, in __call__\n",
      "    self.extfile = tables.open_file(filename, **kwargs)\n",
      "  File \"/Users/computer/DessimozLab/software/pyoma/pyoma/browser/db.py\", line 106, in synchronized_open_file\n",
      "    return _tables_file._original_open_file(*args, **kwargs)\n",
      "  File \"/Users/computer/miniconda3/lib/python3.8/site-packages/tables/file.py\", line 315, in open_file\n",
      "    return File(filename, mode, title, root_uep, filters, **kwargs)\n",
      "  File \"/Users/computer/DessimozLab/software/pyoma/pyoma/browser/db.py\", line 96, in __init__\n",
      "    super(ThreadsafeFile, self).__init__(*args, **kargs)\n",
      "  File \"/Users/computer/miniconda3/lib/python3.8/site-packages/tables/file.py\", line 778, in __init__\n",
      "    self._g_new(filename, mode, **params)\n",
      "  File \"tables/hdf5extension.pyx\", line 374, in tables.hdf5extension.File._g_new\n",
      "  File \"/Users/computer/miniconda3/lib/python3.8/site-packages/tables/utils.py\", line 154, in check_file_access\n",
      "    raise IOError(\"``%s`` does not exist\" % (filename,))\n",
      "OSError: ``/Users/computer/DessimozLab/programming/OmaServer.h5.idx`` does not exist\n",
      "\n",
      "During handling of the above exception, another exception occurred:\n",
      "\n",
      "Traceback (most recent call last):\n",
      "  File \"/Users/computer/DessimozLab/software/pyoma/pyoma/browser/db.py\", line 182, in __init__\n",
      "    self.seq_search = SequenceSearch(self)\n",
      "  File \"/Users/computer/DessimozLab/software/pyoma/pyoma/browser/db.py\", line 1901, in __init__\n",
      "    raise DBConsistencyError(\n",
      "pyoma.browser.db.DBConsistencyError: Suffix index for protein sequences is not available: ``/Users/computer/DessimozLab/programming/OmaServer.h5.idx`` does not exist\n",
      "/Users/computer/miniconda3/lib/python3.8/site-packages/tables/leaf.py:402: PerformanceWarning: The Leaf ``/Protein/_i_Entries/OmaHOG/sorted`` is exceeding the maximum recommended rowsize (104857600 bytes);\n",
      "be ready to see PyTables asking for *lots* of memory and possibly slow\n",
      "I/O.  You may want to reduce the rowsize by trimming the value of\n",
      "dimensions that are orthogonal (and preferably close) to the *main*\n",
      "dimension of this leave.  Alternatively, in case you have specified a\n",
      "very small/large chunksize, you may want to increase/decrease it.\n",
      "  warnings.warn(\"\"\"\\\n"
     ]
    }
   ],
   "source": [
    "import pyoma.browser.db as db\n",
    "\n",
    "oma_database_address = \"/Users/computer/DessimozLab/programming/OmaServer.h5\"\n",
    "oma_db = db.Database(oma_database_address)"
   ]
  },
  {
   "cell_type": "code",
   "execution_count": 2,
   "id": "53c540a9",
   "metadata": {},
   "outputs": [],
   "source": [
    "import statistics as stats"
   ]
  },
  {
   "cell_type": "markdown",
   "id": "bdbd104b",
   "metadata": {},
   "source": [
    "# Create a dictionary {GO term ID: information content}"
   ]
  },
  {
   "cell_type": "code",
   "execution_count": 3,
   "id": "493c5be4",
   "metadata": {},
   "outputs": [],
   "source": [
    "import pandas as pd\n",
    "\n",
    "def inf_cont(address):\n",
    "    \n",
    "    #Create a data frame from the text file, remove the third column\n",
    "    df = pd.read_csv(address, sep = '\\t')\n",
    "    del df['freq']\n",
    "\n",
    "    #Convert the dataframe to an array\n",
    "    df = df.to_numpy()\n",
    "\n",
    "    #Create a dictionary where {GO term ID: informaiton content}\n",
    "    inf_content = {}\n",
    "    for i in df:\n",
    "        inf_content[i[0]] = i[1]\n",
    "    \n",
    "    return inf_content\n",
    "\n",
    "inf_content = inf_cont('./go_inf_content/go_positive_annotations.tsv')"
   ]
  },
  {
   "cell_type": "markdown",
   "id": "fbbb1f7a",
   "metadata": {},
   "source": [
    "# Functions "
   ]
  },
  {
   "cell_type": "markdown",
   "id": "a5e034ce",
   "metadata": {},
   "source": [
    "## Method for finding pairwise orthologs between two species"
   ]
  },
  {
   "cell_type": "code",
   "execution_count": 15,
   "id": "d5bd0774",
   "metadata": {
    "scrolled": true
   },
   "outputs": [],
   "source": [
    "import numpy as np\n",
    "\n",
    "def pairwise_orthologs(species, model_organism):\n",
    "    \n",
    "    '''Method that finds pairwise orthologs between two species\n",
    "    Output: NumPy array, 0th column is the gene of the species of interest and\n",
    "    1st column is the gene of a potential model organism'''\n",
    "    \n",
    "    COLUMN_COUNTER = 2\n",
    "    ROW_COUNTER = 0\n",
    "    \n",
    "    zeroth_column_list = []\n",
    "    first_column_list = []\n",
    "    \n",
    "    model_genome = [i[0] for i in oma_db.all_proteins_of_genome(model_organism)]\n",
    "    species_genome = [i[0] for i in oma_db.all_proteins_of_genome(species)]\n",
    "    \n",
    "    for gene in species_genome:\n",
    "        genes_orthologs = [pair[1] for pair in oma_db.get_vpairs(gene)]\n",
    "        \n",
    "        for ortholog in genes_orthologs:\n",
    "            if ortholog in model_genome:\n",
    "                ROW_COUNTER += 1\n",
    "                zeroth_column_list.append(gene)\n",
    "                first_column_list.append(ortholog)\n",
    "                \n",
    "    output = np.empty((ROW_COUNTER, COLUMN_COUNTER), dtype = int)\n",
    "    \n",
    "    output[:,0] = zeroth_column_list\n",
    "    output[:,1] = first_column_list\n",
    "    \n",
    "    return(output)"
   ]
  },
  {
   "cell_type": "code",
   "execution_count": 16,
   "id": "9783531f",
   "metadata": {},
   "outputs": [],
   "source": [
    "def HOG_induced_orthologs(species, model_organism):\n",
    "    \n",
    "    '''Method that finds HOG induced pairwise orthologs between two species\n",
    "    Output: NumPy array, 0th column is the gene of the species of interest and\n",
    "    1st column is the gene of a potential model organism'''\n",
    "    \n",
    "    COLUMN_COUNTER = 2\n",
    "    ROW_COUNTER = 0\n",
    "    \n",
    "    zeroth_column_list = []\n",
    "    first_column_list = []\n",
    "    \n",
    "    model_genome = [i[0] for i in oma_db.all_proteins_of_genome(model_organism)]\n",
    "    species_genome = [i[0] for i in oma_db.all_proteins_of_genome(species)]\n",
    "    \n",
    "    for gene in species_genome:\n",
    "        genes_orthologs = [pair[1] for pair in oma_db.get_hog_induced_pairwise_orthologs(gene)]\n",
    "        \n",
    "        for ortholog in genes_orthologs:\n",
    "            if ortholog in model_genome:\n",
    "                ROW_COUNTER += 1\n",
    "                zeroth_column_list.append(gene)\n",
    "                first_column_list.append(ortholog)\n",
    "                \n",
    "    output = np.empty((ROW_COUNTER, COLUMN_COUNTER), dtype = int)\n",
    "    \n",
    "    output[:,0] = zeroth_column_list\n",
    "    output[:,1] = first_column_list\n",
    "    \n",
    "    return(output)"
   ]
  },
  {
   "cell_type": "markdown",
   "id": "16900210",
   "metadata": {},
   "source": [
    "## Function that determines GO overlap between each pair of orthologs"
   ]
  },
  {
   "cell_type": "code",
   "execution_count": 17,
   "id": "50ed8564",
   "metadata": {},
   "outputs": [],
   "source": [
    "def GO_overlap(array):\n",
    "    \n",
    "    '''This function determines common GO terms.\n",
    "    Input: array, a numpy array of pairwise orthologs\n",
    "    Output is a list of lists:\n",
    "    [[pair, [bio process GO overlap], perc_similarity],...]'''\n",
    "    \n",
    "    output = []\n",
    "    \n",
    "    for pair in array:\n",
    "        \n",
    "        annos_gene1 = oma_db.get_gene_ontology_annotations(pair[0])\n",
    "        annos_gene2 = oma_db.get_gene_ontology_annotations(pair[1])\n",
    "        \n",
    "        term1 = set(oma_db.gene_ontology.term_by_id(annos_gene1[i]['TermNr']) for i in range(len(annos_gene1)))\n",
    "        term2 = set(oma_db.gene_ontology.term_by_id(annos_gene2[i]['TermNr']) for i in range(len(annos_gene2)))\n",
    "        \n",
    "    \n",
    "        overlap = [int(('{0}'.format(a)).strip('GO:')) for a in term1.intersection(term2)]\n",
    "        overlap_defined = []\n",
    "        \n",
    "        for i in overlap:\n",
    "            if i in list(inf_content.keys()):\n",
    "                overlap_defined.append(i)\n",
    "                \n",
    "        union = [int(('{0}'.format(a)).strip('GO:')) for a in term1.union(term2)]\n",
    "        \n",
    "        union_defined = []\n",
    "        \n",
    "        for i in union:\n",
    "            if i in list(inf_content.keys()):\n",
    "                union_defined.append(i)\n",
    "        \n",
    "        bio_process_overlap = []\n",
    "        for t in overlap:\n",
    "            if oma_db.gene_ontology.term_by_id(t).aspect == 1:\n",
    "                bio_process_overlap.append(t)\n",
    "        \n",
    "        #The output should only contain pairs that share biological process GO terms\n",
    "        \n",
    "        if len(bio_process_overlap) != 0:\n",
    "            small_list = [pair]\n",
    "            small_list.append(bio_process_overlap)\n",
    "                        \n",
    "            intrsctn_inf_cont = sum(list(inf_content[i] for i in overlap_defined))\n",
    "            union_inf_cont = sum(list(inf_content[e] for e in union_defined))\n",
    "\n",
    "            try:\n",
    "                similarity = 100*intrsctn_inf_cont/union_inf_cont\n",
    "                small_list.append(similarity)\n",
    "                output.append(small_list) \n",
    "            except ZeroDivisionError:\n",
    "                pass\n",
    "        \n",
    "    return output"
   ]
  },
  {
   "cell_type": "code",
   "execution_count": 18,
   "id": "eb083797",
   "metadata": {},
   "outputs": [],
   "source": [
    "def GO_overlap1(array):\n",
    "    \n",
    "    '''This function determines common GO terms.\n",
    "    Input: array, a numpy array of pairwise orthologs\n",
    "    Output is a list of lists:\n",
    "    [[pair, [bio process GO overlap], perc_similarity],...]'''\n",
    "    \n",
    "    output = []\n",
    "    \n",
    "    for pair in array:\n",
    "        \n",
    "        annos_gene1 = oma_db.get_gene_ontology_annotations(pair[0])\n",
    "        annos_gene2 = oma_db.get_gene_ontology_annotations(pair[1])\n",
    "        \n",
    "        term1 = set(oma_db.gene_ontology.term_by_id(annos_gene1[i]['TermNr']) for i in range(len(annos_gene1)))\n",
    "        term2 = set(oma_db.gene_ontology.term_by_id(annos_gene2[i]['TermNr']) for i in range(len(annos_gene2)))\n",
    "        \n",
    "        term1_plus_parents = set()\n",
    "        for i in term1:\n",
    "            term1_plus_parents.update(go.get_superterms_incl_queryterm(i))\n",
    "        term1_plus_parents_ids = set(t.id for t in term1_plus_parents)\n",
    "        \n",
    "        term2_plus_parents = set()\n",
    "        for i in term2:\n",
    "            term2_plus_parents.update(go.get_superterms_incl_queryterm(i))\n",
    "        term2_plus_parents_ids = set(t.id for t in term2_plus_parents)\n",
    "        \n",
    "        overlap = [int(('{0}'.format(a)).strip('GO:')) for a in term1_plus_parents_ids.intersection(term2_plus_parents_ids)]\n",
    "        overlap_defined = []\n",
    "        \n",
    "        #Only consider GO terms that are present in the Alex's file ('defined') and with information content >= 5\n",
    "        for i in overlap:\n",
    "            if i in list(inf_content.keys()):\n",
    "                if inf_content[i] >=5:\n",
    "                    overlap_defined.append(i)\n",
    "                \n",
    "        union = [int(('{0}'.format(a)).strip('GO:')) for a in term1_plus_parents_ids.union(term2_plus_parents_ids)]\n",
    "        union_defined = []\n",
    "        \n",
    "        for i in union:\n",
    "            if i in list(inf_content.keys()):\n",
    "                if inf_content[i] >=5:\n",
    "                    union_defined.append(i)\n",
    "        \n",
    "        #The output only includes BP overlapping GO terms\n",
    "        bio_process_overlap = []\n",
    "        for t in overlap_defined:\n",
    "            if oma_db.gene_ontology.term_by_id(t).aspect == 1:\n",
    "                bio_process_overlap.append(t)\n",
    "        \n",
    "        if len(bio_process_overlap) != 0:\n",
    "            small_list = [pair]\n",
    "            small_list.append(bio_process_overlap)\n",
    "            \n",
    "            intrsctn_inf_cont = sum(list(inf_content[i] for i in overlap_defined))\n",
    "            union_inf_cont = sum(list(inf_content[e] for e in union_defined))\n",
    "                \n",
    "            try:\n",
    "                similarity = 100*intrsctn_inf_cont/union_inf_cont\n",
    "                small_list.append(similarity)\n",
    "                output.append(small_list) \n",
    "            except ZeroDivisionError:\n",
    "                pass\n",
    "        \n",
    "    return output"
   ]
  },
  {
   "cell_type": "markdown",
   "id": "d37a1701",
   "metadata": {},
   "source": [
    "## Finding orthologs with the highest functional similarity"
   ]
  },
  {
   "cell_type": "code",
   "execution_count": 19,
   "id": "d9b08d48",
   "metadata": {
    "scrolled": false
   },
   "outputs": [],
   "source": [
    "def high_similarity_fnctn_ogs(GO_overlap_output, threshold):\n",
    "    \n",
    "    '''This function finds orthologous pairs where similarity > threshold\n",
    "    Input: GO_overlap array & lower thresshold\n",
    "    Output: list of lists [[pair, [bio process GO overlap], perc_similarity],...] '''\n",
    "    \n",
    "    output = []\n",
    "    \n",
    "    for i in GO_overlap_output:\n",
    "         if i[2] >= threshold:\n",
    "                output.append(i)\n",
    "    \n",
    "    return output"
   ]
  },
  {
   "cell_type": "markdown",
   "id": "751b167e",
   "metadata": {},
   "source": [
    "## Finding GO terms based on how many times they occur in the overlap"
   ]
  },
  {
   "cell_type": "code",
   "execution_count": 20,
   "id": "f847f5b6",
   "metadata": {},
   "outputs": [],
   "source": [
    "def frequency_GO_filter(high_sim_fn_output, lower_limit, upper_limit):\n",
    "    \n",
    "    '''Gives a list of overlapping GO terms that occur between lower_ and upper_limit times + count\n",
    "    Input: high functional similarity array & lower threshold count value\n",
    "    Output: [(GO_ID1, count1), (GO_ID2, count2),...]'''\n",
    "    \n",
    "    large_list = []\n",
    "    output = []\n",
    "    \n",
    "    for i in high_sim_fn_output:\n",
    "        large_list += i[1]\n",
    "        \n",
    "    large_set = set(large_list)\n",
    "    \n",
    "    for i in large_set:\n",
    "        count = large_list.count(i)\n",
    "        if count >= lower_limit and count <= upper_limit:\n",
    "            output.append((i, count))\n",
    "            \n",
    "    return output"
   ]
  },
  {
   "cell_type": "markdown",
   "id": "a4bbfef6",
   "metadata": {},
   "source": [
    "## Mapping OMA ID to Gene Name from UniProt"
   ]
  },
  {
   "cell_type": "code",
   "execution_count": 6,
   "id": "dc2587e4",
   "metadata": {},
   "outputs": [
    {
     "name": "stderr",
     "output_type": "stream",
     "text": [
      "/Users/computer/miniconda3/lib/python3.8/site-packages/tables/leaf.py:402: PerformanceWarning: The Leaf ``/_i_XRef/XRefId/sorted`` is exceeding the maximum recommended rowsize (104857600 bytes);\n",
      "be ready to see PyTables asking for *lots* of memory and possibly slow\n",
      "I/O.  You may want to reduce the rowsize by trimming the value of\n",
      "dimensions that are orthogonal (and preferably close) to the *main*\n",
      "dimension of this leave.  Alternatively, in case you have specified a\n",
      "very small/large chunksize, you may want to increase/decrease it.\n",
      "  warnings.warn(\"\"\"\\\n"
     ]
    }
   ],
   "source": [
    "xref_mapper = oma_db.id_mapper['XRef']\n",
    "\n",
    "def gene_name_mapper(entry_nr):\n",
    "    \n",
    "    '''Map OMA ID to UniProt Gene Name'''\n",
    "\n",
    "    x = xref_mapper.map_entry_nr(entry_nr)\n",
    "    \n",
    "    for i in x:\n",
    "        if i['source'] == 'UniProtKB/TrEMBL':\n",
    "            return(i['xref'])\n",
    "    for i in x:\n",
    "        if i['source'] == 'UniProtKB/SwissProt':\n",
    "            return(i['xref'])\n",
    "    for i in x:\n",
    "        if i['source'] == 'Gene Name':\n",
    "            return(i['xref'])\n",
    "    return(str(entry_nr))"
   ]
  },
  {
   "cell_type": "markdown",
   "id": "93d0df54",
   "metadata": {},
   "source": [
    "## Create list of lists [GO ID, [human genes], [model_genes], no. of orth, similarity]"
   ]
  },
  {
   "cell_type": "code",
   "execution_count": 22,
   "id": "2c1e1e8a",
   "metadata": {},
   "outputs": [],
   "source": [
    "def table2(species, frequency_GO_filter_output,high_similarity_fnctn_ogs_output, threshold):\n",
    "    \n",
    "    '''Creates pandas dataframe [GO ID, [human genes], [model genes], no. of orthologs, av. similarity]'''\n",
    "    \n",
    "    output = [] \n",
    "    \n",
    "    for i in frequency_GO_filter_output:\n",
    "        small_list = []\n",
    "        human_genes = []\n",
    "        sp_genes = []\n",
    "        try:\n",
    "            if inf_content[i[0]] >= threshold:\n",
    "                small_list.append(i[0])\n",
    "                small_list.append(species)\n",
    "                s = []\n",
    "                for e in high_similarity_fnctn_ogs_output:\n",
    "                    if i[0] in e[1]:\n",
    "                        human_genes.append(e[0][0])\n",
    "                        sp_genes.append(e[0][1])\n",
    "                        s.append(e[2])\n",
    "                av_sim = sum(s)/len(human_genes)\n",
    "                if len(s) > 1:\n",
    "                    st_dev = round(stats.stdev(s),2)\n",
    "                else:\n",
    "                    st_dev = '0.00'\n",
    "                av_and_st_dev = str(round(av_sim,2)) + ' +/- ' + str(st_dev)\n",
    "                h_genes_uniprot = []\n",
    "                for t in human_genes:\n",
    "                    h_genes_uniprot.append(gene_name_mapper(t))\n",
    "                #if len(human_genes) > 1:\n",
    "                small_list.append(','.join(h_genes_uniprot))\n",
    "                #else:\n",
    "                    #small_list.append(h_genes_uniprot[0])\n",
    "                sp_genes_uniprot = []\n",
    "                for t in sp_genes:\n",
    "                    sp_genes_uniprot.append(gene_name_mapper(t))\n",
    "                #if len(sp_genes) > 1: \n",
    "                small_list.append(','.join(sp_genes_uniprot))\n",
    "                #else:\n",
    "                    #small_list.append(sp_genes_uniprot[0])\n",
    "                small_list.append(len(human_genes))\n",
    "                small_list.append(av_and_st_dev)\n",
    "                output.append(small_list)\n",
    "        except KeyError:\n",
    "            pass\n",
    "    \n",
    "    df = pd.DataFrame(output, columns = ['GO ID', 'Species', 'H Genes', 'S Genes', 'No. of ogs','Average % func. similarity'])\n",
    "                \n",
    "    return df"
   ]
  },
  {
   "cell_type": "code",
   "execution_count": 23,
   "id": "452173fe",
   "metadata": {},
   "outputs": [],
   "source": [
    "def table1(species, frequency_GO_filter_output,high_similarity_fnctn_ogs_output, threshold):\n",
    "    \n",
    "    '''Create table ['GO ID', 'Species', 'HUMAN Gene', 'Species Gene', 'Functional Similarity']'''\n",
    "    output = []\n",
    "    \n",
    "    for i in high_similarity_fnctn_ogs_output:\n",
    "        small_list = []\n",
    "        for e in frequency_GO_filter_output:\n",
    "            try:\n",
    "                if inf_content[e[0]] >= 5:\n",
    "                    if e[0] in i[1]:\n",
    "                        small_list.append(e[0])\n",
    "                        small_list.append(species)\n",
    "                        small_list.append(gene_name_mapper(i[0][0]))\n",
    "                        small_list.append(gene_name_mapper(i[0][1]))\n",
    "                        small_list.append(round(i[2],2))\n",
    "                        output.append(small_list)\n",
    "                        break\n",
    "            except KeyError:\n",
    "                pass\n",
    "        \n",
    "    \n",
    "    df = pd.DataFrame(output, columns = ['GO ID', 'Species', 'H Gene', 'S Gene', '% Func. Similarity' ])\n",
    "                    \n",
    "    return df\n",
    "    "
   ]
  },
  {
   "cell_type": "code",
   "execution_count": 24,
   "id": "0a1eb694",
   "metadata": {},
   "outputs": [],
   "source": [
    "def save_histogram(overlap, file_name):\n",
    "    \n",
    "    '''Save functional similarity histogram as a png file'''\n",
    "    \n",
    "    sim_list3 = [i[2] for i in overlap]\n",
    "    num_bins3 = np.arange(0, 100.5, 0.5).tolist()\n",
    "    n, bins, patches = plt.hist(sim_list3, num_bins3,facecolor='purple' )\n",
    "    plt.title('New Similarity Calculations')\n",
    "    plt.xlabel('Functional Similarity (%)')\n",
    "    plt.ylabel('No. of orthologous pairs')\n",
    "    plt.savefig(filename)\n",
    "    "
   ]
  },
  {
   "cell_type": "markdown",
   "id": "c9e36e80",
   "metadata": {},
   "source": [
    "# Candidate 1: Dyctiostelium discoideum"
   ]
  },
  {
   "cell_type": "code",
   "execution_count": 19,
   "id": "a783104d",
   "metadata": {
    "scrolled": true
   },
   "outputs": [
    {
     "name": "stdout",
     "output_type": "stream",
     "text": [
      "There are 4857 pairwise orthologs in Dyctiostelium discoideum.\n",
      "\n"
     ]
    }
   ],
   "source": [
    "og_pairs1 = pairwise_orthologs('HUMAN', 'DICDI')\n",
    "print('There are {} pairwise orthologs in Dyctiostelium discoideum.\\n'.format(len(og_pairs1)))"
   ]
  },
  {
   "cell_type": "code",
   "execution_count": 21,
   "id": "82707763",
   "metadata": {},
   "outputs": [],
   "source": [
    "import pickle\n",
    "\n",
    "file = 'DICDI_orthologs.pkl'\n",
    "open_file = open(file, 'wb')\n",
    "pickle.dump(og_pairs1, open_file)\n",
    "open_file.close()"
   ]
  },
  {
   "cell_type": "code",
   "execution_count": 16,
   "id": "56f59e92",
   "metadata": {
    "scrolled": false
   },
   "outputs": [
    {
     "data": {
      "image/png": "[encoded data removed]",
      "text/plain": [
       "<Figure size 432x288 with 1 Axes>"
      ]
     },
     "metadata": {
      "needs_background": "light"
     },
     "output_type": "display_data"
    }
   ],
   "source": [
    "#Histogram for percentage similarity\n",
    "\n",
    "import matplotlib.mlab as mlab\n",
    "import matplotlib.pyplot as plt\n",
    "\n",
    "sim_list1 = [i[2] for i in overlap1]\n",
    "num_bins1 = np.arange(0, 100.5, 0.5).tolist()\n",
    "\n",
    "n, bins, patches = plt.hist(sim_list1, num_bins1, facecolor='blue')\n",
    "plt.title('Old Similarity Calculations')\n",
    "plt.xlabel('Functional Similarity (%)')\n",
    "plt.ylabel('No. of orthologous pairs')\n",
    "plt.show()"
   ]
  },
  {
   "cell_type": "code",
   "execution_count": 27,
   "id": "3ca05913",
   "metadata": {
    "scrolled": true
   },
   "outputs": [],
   "source": [
    "overlap1_new = GO_overlap1(og_pairs1)"
   ]
  },
  {
   "cell_type": "code",
   "execution_count": 26,
   "id": "702d4d25",
   "metadata": {},
   "outputs": [],
   "source": [
    "go = oma_db.gene_ontology"
   ]
  },
  {
   "cell_type": "code",
   "execution_count": 37,
   "id": "db7b4b85",
   "metadata": {
    "scrolled": true
   },
   "outputs": [
    {
     "data": {
      "image/png": "[encoded data removed]",
      "text/plain": [
       "<Figure size 432x288 with 1 Axes>"
      ]
     },
     "metadata": {
      "needs_background": "light"
     },
     "output_type": "display_data"
    }
   ],
   "source": [
    "#Histogram for percentage similarity taking into account parent GO\n",
    "\n",
    "import matplotlib.mlab as mlab\n",
    "import matplotlib.pyplot as plt\n",
    "\n",
    "sim_list3 = [i[2] for i in overlap1_new]\n",
    "num_bins3 = np.arange(0, 100.5, 0.5).tolist()\n",
    "n, bins, patches = plt.hist(sim_list3, num_bins3,facecolor='purple' )\n",
    "plt.title('New Similarity Calculations')\n",
    "plt.xlabel('Functional Similarity (%)')\n",
    "plt.ylabel('No. of orthologous pairs')\n",
    "plt.show()"
   ]
  },
  {
   "cell_type": "code",
   "execution_count": 28,
   "id": "c0c2b9b8",
   "metadata": {},
   "outputs": [
    {
     "name": "stdout",
     "output_type": "stream",
     "text": [
      "3793\n"
     ]
    }
   ],
   "source": [
    "similar_ogs_new = high_similarity_fnctn_ogs(overlap1_new, 5)\n",
    "print(len(similar_ogs_new))"
   ]
  },
  {
   "cell_type": "code",
   "execution_count": 40,
   "id": "5803239f",
   "metadata": {
    "scrolled": true
   },
   "outputs": [
    {
     "data": {
      "image/png": "[encoded data removed]",
      "text/plain": [
       "<Figure size 432x288 with 1 Axes>"
      ]
     },
     "metadata": {
      "needs_background": "light"
     },
     "output_type": "display_data"
    }
   ],
   "source": [
    "#Histogram for frequeny of GO terms\n",
    "\n",
    "freq = []\n",
    "all_go_terms = []\n",
    "\n",
    "for i in similar_ogs:\n",
    "    \n",
    "    all_go_terms += i[1]\n",
    "    \n",
    "no_duplicates = set(all_go_terms)\n",
    "\n",
    "for i in no_duplicates:\n",
    "        count = all_go_terms.count(i)\n",
    "        freq.append(count)\n",
    "    \n",
    "num_bins1_1 = 150\n",
    "\n",
    "n, bins, patches = plt.hist(freq, num_bins1_1, facecolor='blue')\n",
    "plt.title('Frequency vs Occurence of individual GO terms across 3763 orthologous pairs')\n",
    "plt.xlabel('Occurence')\n",
    "plt.ylabel('Frequency')\n",
    "plt.show()"
   ]
  },
  {
   "cell_type": "code",
   "execution_count": 41,
   "id": "74c2e8e7",
   "metadata": {
    "scrolled": false
   },
   "outputs": [
    {
     "data": {
      "image/png": "[encoded data removed]",
      "text/plain": [
       "<Figure size 432x288 with 1 Axes>"
      ]
     },
     "metadata": {
      "needs_background": "light"
     },
     "output_type": "display_data"
    }
   ],
   "source": [
    "#Histogram for frequeny of GO terms\n",
    "\n",
    "freq = []\n",
    "all_go_terms = []\n",
    "\n",
    "for i in similar_ogs_new:\n",
    "    \n",
    "    all_go_terms += i[1]\n",
    "    \n",
    "no_duplicates = set(all_go_terms)\n",
    "\n",
    "for i in no_duplicates:\n",
    "        count = all_go_terms.count(i)\n",
    "        freq.append(count)\n",
    "    \n",
    "num_bins1_1 = 150\n",
    "\n",
    "n, bins, patches = plt.hist(freq, num_bins1_1, facecolor='purple')\n",
    "plt.title('Frequency vs Occurence of individual GO terms across 3793 orthologous pairs')\n",
    "plt.xlabel('Occurence')\n",
    "plt.ylabel('Frequency')\n",
    "plt.show()"
   ]
  },
  {
   "cell_type": "code",
   "execution_count": 99,
   "id": "9d643460",
   "metadata": {
    "scrolled": true
   },
   "outputs": [
    {
     "data": {
      "image/png": "[encoded data removed]",
      "text/plain": [
       "<Figure size 432x288 with 1 Axes>"
      ]
     },
     "metadata": {
      "needs_background": "light"
     },
     "output_type": "display_data"
    }
   ],
   "source": [
    "#Histogram for information content values of all GO terms\n",
    "\n",
    "information = list(inf_content.values())\n",
    "\n",
    "num_bins1_1 = 100\n",
    "\n",
    "n, bins, patches = plt.hist(information, num_bins1_1, facecolor='green')\n",
    "plt.title('Information stored by each GO term')\n",
    "plt.xlabel('Information content')\n",
    "plt.ylabel('Frequency')\n",
    "plt.show()"
   ]
  }
 ],
 "metadata": {
  "kernelspec": {
   "display_name": "Python 3",
   "language": "python",
   "name": "python3"
  },
  "language_info": {
   "codemirror_mode": {
    "name": "ipython",
    "version": 3
   },
   "file_extension": ".py",
   "mimetype": "text/x-python",
   "name": "python",
   "nbconvert_exporter": "python",
   "pygments_lexer": "ipython3",
   "version": "3.8.5"
  }
 },
 "nbformat": 4,
 "nbformat_minor": 5
}
